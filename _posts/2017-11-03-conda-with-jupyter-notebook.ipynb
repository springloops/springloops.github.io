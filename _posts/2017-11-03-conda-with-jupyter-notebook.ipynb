{
 "cells": [
  {
   "cell_type": "markdown",
   "metadata": {
    "slideshow": {
     "slide_type": "slide"
    }
   },
   "source": [
    "# Installing Anaconda and jupyter notebook\n"
   ]
  },
  {
   "attachments": {},
   "cell_type": "markdown",
   "metadata": {
    "slideshow": {
     "slide_type": "slide"
    }
   },
   "source": [
    "## Anaconda\n",
    "\n",
    "\n",
    "Go [anaconda downloads](https://www.continuum.io/downloads)\n",
    "\n",
    "* 자신의 환경과 맞는 버전을 설치.\n",
    "* 기본 conda 환경에 설치된 패키지 조회 \n",
    "\n",
    "```bash\n",
    "conda list\n",
    "```\n",
    "![conda_list.png](attachment:conda_list.png)"
   ]
  },
  {
   "attachments": {},
   "cell_type": "markdown",
   "metadata": {
    "slideshow": {
     "slide_type": "subslide"
    }
   },
   "source": [
    "### conda 환경 생성\n",
    "\n",
    "conda create -n [virtualenv_name] [python=version]\n",
    "\n",
    "```bash\n",
    "conda create -n py3 python=3\n",
    "```\n",
    "\n",
    "\n",
    "### conda 환경 조회\n",
    "\n",
    "```bash\n",
    "conda env list\n",
    "```\n",
    "\n",
    "![conda_env_list.png](attachment:conda_env_list.png)\n",
    "\n",
    "\n",
    "### 가상 환경 접속\n",
    "\n",
    "source activate [virturalenv_name]\n",
    "\n",
    "```bash\n",
    "source activate py3\n",
    "```\n",
    "\n",
    "### 가상환경 내 패키지 설치하기\n",
    "\n",
    "conda install [package]\n",
    "\n",
    "```bash\n",
    "conda install jupyter notebook\n",
    "```\n",
    "\n",
    "### 가상 환경내 설치된 패키지 확인\n",
    "\n",
    "```bash\n",
    "conda env list\n",
    "```\n",
    "\n",
    "### 가상 환경 설정 내보내기\n",
    "\n",
    "공유 등을 위해..\n",
    "\n",
    "```bash\n",
    "conda env export > environment.yaml\n",
    "```\n",
    "\n",
    "### 환경 설정 파일 (environment.yaml) 기반으로 환경 생성하기\n",
    "\n",
    "환경 설정 파일 (*.yaml) 의 첫번째 라인에 있는 name 에 정의된 값으로 환경 이름이 결정된다.\n",
    "\n",
    "```bash\n",
    "conda env create -f environment.yaml\n",
    "```\n",
    "\n",
    "### 가상 환경 나오기\n",
    "\n",
    "```bash\n",
    "source deactivate\n",
    "```\n",
    "\n",
    "### 가상 환경 삭제하기\n",
    "\n",
    "conda env remove -n [virtualenv_name]\n",
    "\n",
    "```bash\n",
    "conda env remove -n py3\n",
    "```\n"
   ]
  },
  {
   "cell_type": "markdown",
   "metadata": {
    "slideshow": {
     "slide_type": "slide"
    }
   },
   "source": [
    "jupyter notebook 을 실행한 상태에서 slideshow 만들기\n",
    "\n",
    "jupyter nbconvert 명령 실행\n",
    "```bash\n",
    "jupyter nbconvert --to slides 2017-11-03-conda-with-jupyter-notebook.ipynb  --to slides --post serve\n",
    "```\n"
   ]
  },
  {
   "attachments": {},
   "cell_type": "markdown",
   "metadata": {
    "slideshow": {
     "slide_type": "slide"
    }
   },
   "source": [
    "## jupyter notebook\n",
    "\n",
    "오프라인에서 사용가능한 slideshow 만들기\n",
    "\n",
    "### reveal.js 설치\n",
    "\n",
    "* 원하는 위치에 다운로드\n",
    "```bash\n",
    "git clone https://github.com/hakimel/reveal.js.git\n",
    "```\n",
    "\n",
    "* jupyter notebook cell 에 slide 설정\n",
    "\n",
    "\n",
    "1. View > Cell Toolbar > Slideshow 선택\n",
    "![menu_slideshow.png](attachment:menu_slideshow.png)\n",
    "\n",
    "2. Slide Type 설정\n",
    "![slide_select_box.png](attachment:slide_select_box.png)\n",
    "\n",
    "3. jupyter nbconvert 명령 실행\n",
    "```bash\n",
    "jupyter nbconvert --to slides 2017-11-03-conda-with-jupyter-notebook.ipynb --reveal-prefix=/data/play/reveal.js\n",
    "```\n"
   ]
  },
  {
   "cell_type": "code",
   "execution_count": null,
   "metadata": {
    "collapsed": true
   },
   "outputs": [],
   "source": []
  }
 ],
 "metadata": {
  "celltoolbar": "Slideshow",
  "kernelspec": {
   "display_name": "Python [conda env:py3]",
   "language": "python",
   "name": "conda-env-py3-py"
  },
  "language_info": {
   "codemirror_mode": {
    "name": "ipython",
    "version": 3
   },
   "file_extension": ".py",
   "mimetype": "text/x-python",
   "name": "python",
   "nbconvert_exporter": "python",
   "pygments_lexer": "ipython3",
   "version": "3.6.2"
  }
 },
 "nbformat": 4,
 "nbformat_minor": 2
}
